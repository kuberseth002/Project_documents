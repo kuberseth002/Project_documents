{
  "cells": [
    {
      "cell_type": "code",
      "execution_count": null,
      "metadata": {
        "id": "vuBNi7HQ58Fg"
      },
      "outputs": [],
      "source": [
        "# Ml Models implementation"
      ]
    },
    {
      "cell_type": "markdown",
      "metadata": {
        "id": "VdDKGheLTHqE"
      },
      "source": [
        "This step includes loading the dataset, encoding categorical variables using LabelEncoder, splitting the dataset into training and testing sets, and standardizing features using StandardScaler."
      ]
    },
    {
      "cell_type": "markdown",
      "metadata": {
        "id": "dGVvvPze8Pyq"
      },
      "source": [
        "Libraries installation"
      ]
    },
    {
      "cell_type": "code",
      "execution_count": null,
      "metadata": {
        "id": "i8q-u3928Lir"
      },
      "outputs": [],
      "source": [
        "import pandas as pd\n",
        "import numpy as np\n",
        "from sklearn.model_selection import train_test_split\n",
        "from sklearn.preprocessing import LabelEncoder, StandardScaler"
      ]
    },
    {
      "cell_type": "markdown",
      "metadata": {
        "id": "r7Xd-4-_8fGn"
      },
      "source": [
        "Uploading the csv file"
      ]
    },
    {
      "cell_type": "code",
      "execution_count": null,
      "metadata": {
        "colab": {
          "base_uri": "https://localhost:8080/",
          "height": 73
        },
        "id": "dID1lpCO8rq_",
        "outputId": "5a94de7a-2c0b-46ac-9d60-dfc204ff1079"
      },
      "outputs": [
        {
          "data": {
            "text/html": [
              "\n",
              "     <input type=\"file\" id=\"files-404e381e-0b3e-4902-a00f-07f1ef9061a2\" name=\"files[]\" multiple disabled\n",
              "        style=\"border:none\" />\n",
              "     <output id=\"result-404e381e-0b3e-4902-a00f-07f1ef9061a2\">\n",
              "      Upload widget is only available when the cell has been executed in the\n",
              "      current browser session. Please rerun this cell to enable.\n",
              "      </output>\n",
              "      <script>// Copyright 2017 Google LLC\n",
              "//\n",
              "// Licensed under the Apache License, Version 2.0 (the \"License\");\n",
              "// you may not use this file except in compliance with the License.\n",
              "// You may obtain a copy of the License at\n",
              "//\n",
              "//      http://www.apache.org/licenses/LICENSE-2.0\n",
              "//\n",
              "// Unless required by applicable law or agreed to in writing, software\n",
              "// distributed under the License is distributed on an \"AS IS\" BASIS,\n",
              "// WITHOUT WARRANTIES OR CONDITIONS OF ANY KIND, either express or implied.\n",
              "// See the License for the specific language governing permissions and\n",
              "// limitations under the License.\n",
              "\n",
              "/**\n",
              " * @fileoverview Helpers for google.colab Python module.\n",
              " */\n",
              "(function(scope) {\n",
              "function span(text, styleAttributes = {}) {\n",
              "  const element = document.createElement('span');\n",
              "  element.textContent = text;\n",
              "  for (const key of Object.keys(styleAttributes)) {\n",
              "    element.style[key] = styleAttributes[key];\n",
              "  }\n",
              "  return element;\n",
              "}\n",
              "\n",
              "// Max number of bytes which will be uploaded at a time.\n",
              "const MAX_PAYLOAD_SIZE = 100 * 1024;\n",
              "\n",
              "function _uploadFiles(inputId, outputId) {\n",
              "  const steps = uploadFilesStep(inputId, outputId);\n",
              "  const outputElement = document.getElementById(outputId);\n",
              "  // Cache steps on the outputElement to make it available for the next call\n",
              "  // to uploadFilesContinue from Python.\n",
              "  outputElement.steps = steps;\n",
              "\n",
              "  return _uploadFilesContinue(outputId);\n",
              "}\n",
              "\n",
              "// This is roughly an async generator (not supported in the browser yet),\n",
              "// where there are multiple asynchronous steps and the Python side is going\n",
              "// to poll for completion of each step.\n",
              "// This uses a Promise to block the python side on completion of each step,\n",
              "// then passes the result of the previous step as the input to the next step.\n",
              "function _uploadFilesContinue(outputId) {\n",
              "  const outputElement = document.getElementById(outputId);\n",
              "  const steps = outputElement.steps;\n",
              "\n",
              "  const next = steps.next(outputElement.lastPromiseValue);\n",
              "  return Promise.resolve(next.value.promise).then((value) => {\n",
              "    // Cache the last promise value to make it available to the next\n",
              "    // step of the generator.\n",
              "    outputElement.lastPromiseValue = value;\n",
              "    return next.value.response;\n",
              "  });\n",
              "}\n",
              "\n",
              "/**\n",
              " * Generator function which is called between each async step of the upload\n",
              " * process.\n",
              " * @param {string} inputId Element ID of the input file picker element.\n",
              " * @param {string} outputId Element ID of the output display.\n",
              " * @return {!Iterable<!Object>} Iterable of next steps.\n",
              " */\n",
              "function* uploadFilesStep(inputId, outputId) {\n",
              "  const inputElement = document.getElementById(inputId);\n",
              "  inputElement.disabled = false;\n",
              "\n",
              "  const outputElement = document.getElementById(outputId);\n",
              "  outputElement.innerHTML = '';\n",
              "\n",
              "  const pickedPromise = new Promise((resolve) => {\n",
              "    inputElement.addEventListener('change', (e) => {\n",
              "      resolve(e.target.files);\n",
              "    });\n",
              "  });\n",
              "\n",
              "  const cancel = document.createElement('button');\n",
              "  inputElement.parentElement.appendChild(cancel);\n",
              "  cancel.textContent = 'Cancel upload';\n",
              "  const cancelPromise = new Promise((resolve) => {\n",
              "    cancel.onclick = () => {\n",
              "      resolve(null);\n",
              "    };\n",
              "  });\n",
              "\n",
              "  // Wait for the user to pick the files.\n",
              "  const files = yield {\n",
              "    promise: Promise.race([pickedPromise, cancelPromise]),\n",
              "    response: {\n",
              "      action: 'starting',\n",
              "    }\n",
              "  };\n",
              "\n",
              "  cancel.remove();\n",
              "\n",
              "  // Disable the input element since further picks are not allowed.\n",
              "  inputElement.disabled = true;\n",
              "\n",
              "  if (!files) {\n",
              "    return {\n",
              "      response: {\n",
              "        action: 'complete',\n",
              "      }\n",
              "    };\n",
              "  }\n",
              "\n",
              "  for (const file of files) {\n",
              "    const li = document.createElement('li');\n",
              "    li.append(span(file.name, {fontWeight: 'bold'}));\n",
              "    li.append(span(\n",
              "        `(${file.type || 'n/a'}) - ${file.size} bytes, ` +\n",
              "        `last modified: ${\n",
              "            file.lastModifiedDate ? file.lastModifiedDate.toLocaleDateString() :\n",
              "                                    'n/a'} - `));\n",
              "    const percent = span('0% done');\n",
              "    li.appendChild(percent);\n",
              "\n",
              "    outputElement.appendChild(li);\n",
              "\n",
              "    const fileDataPromise = new Promise((resolve) => {\n",
              "      const reader = new FileReader();\n",
              "      reader.onload = (e) => {\n",
              "        resolve(e.target.result);\n",
              "      };\n",
              "      reader.readAsArrayBuffer(file);\n",
              "    });\n",
              "    // Wait for the data to be ready.\n",
              "    let fileData = yield {\n",
              "      promise: fileDataPromise,\n",
              "      response: {\n",
              "        action: 'continue',\n",
              "      }\n",
              "    };\n",
              "\n",
              "    // Use a chunked sending to avoid message size limits. See b/62115660.\n",
              "    let position = 0;\n",
              "    do {\n",
              "      const length = Math.min(fileData.byteLength - position, MAX_PAYLOAD_SIZE);\n",
              "      const chunk = new Uint8Array(fileData, position, length);\n",
              "      position += length;\n",
              "\n",
              "      const base64 = btoa(String.fromCharCode.apply(null, chunk));\n",
              "      yield {\n",
              "        response: {\n",
              "          action: 'append',\n",
              "          file: file.name,\n",
              "          data: base64,\n",
              "        },\n",
              "      };\n",
              "\n",
              "      let percentDone = fileData.byteLength === 0 ?\n",
              "          100 :\n",
              "          Math.round((position / fileData.byteLength) * 100);\n",
              "      percent.textContent = `${percentDone}% done`;\n",
              "\n",
              "    } while (position < fileData.byteLength);\n",
              "  }\n",
              "\n",
              "  // All done.\n",
              "  yield {\n",
              "    response: {\n",
              "      action: 'complete',\n",
              "    }\n",
              "  };\n",
              "}\n",
              "\n",
              "scope.google = scope.google || {};\n",
              "scope.google.colab = scope.google.colab || {};\n",
              "scope.google.colab._files = {\n",
              "  _uploadFiles,\n",
              "  _uploadFilesContinue,\n",
              "};\n",
              "})(self);\n",
              "</script> "
            ],
            "text/plain": [
              "<IPython.core.display.HTML object>"
            ]
          },
          "metadata": {},
          "output_type": "display_data"
        },
        {
          "name": "stdout",
          "output_type": "stream",
          "text": [
            "Saving healthcare_dataset.csv to healthcare_dataset (1).csv\n"
          ]
        }
      ],
      "source": [
        "from google.colab import files\n",
        "\n",
        "uploaded = files.upload()"
      ]
    },
    {
      "cell_type": "markdown",
      "metadata": {
        "id": "sFCM1Ina9DHP"
      },
      "source": [
        "Load and preccesing the data\n"
      ]
    },
    {
      "cell_type": "code",
      "execution_count": null,
      "metadata": {
        "id": "sEDYkoL68c3n"
      },
      "outputs": [],
      "source": [
        "df = pd.read_csv('healthcare_dataset.csv')\n",
        "\n",
        "le = LabelEncoder()\n",
        "for col in df.select_dtypes(include='object'):\n",
        "    df[col] = le.fit_transform(df[col])\n",
        "\n",
        "X = df.drop(['Billing Amount', 'Test Results'], axis=1)\n",
        "y_reg = df['Billing Amount']\n",
        "y_clf = df['Test Results']\n",
        "\n",
        "X_train_reg, X_test_reg, y_train_reg, y_test_reg = train_test_split(X, y_reg, test_size=0.1, random_state=42)\n",
        "X_train_clf, X_test_clf, y_train_clf, y_test_clf = train_test_split(X, y_clf, test_size=0.1, random_state=42)\n",
        "\n",
        "scaler = StandardScaler()\n",
        "X_train_reg = scaler.fit_transform(X_train_reg)\n",
        "X_test_reg = scaler.transform(X_test_reg)\n",
        "X_train_clf = scaler.fit_transform(X_train_clf)\n",
        "X_test_clf = scaler.transform(X_test_clf)\n"
      ]
    },
    {
      "cell_type": "markdown",
      "metadata": {
        "id": "AL99rcTK9xY5"
      },
      "source": [
        "Linear Regression\n",
        "\n",
        "\n",
        "\n",
        "\n"
      ]
    },
    {
      "cell_type": "markdown",
      "metadata": {
        "id": "VGSB6iBLTNX7"
      },
      "source": [
        "We use LinearRegression to predict the Billing Amount (a regression task). The performance is evaluated using Root Mean Squared Error (RMSE)."
      ]
    },
    {
      "cell_type": "code",
      "execution_count": null,
      "metadata": {
        "colab": {
          "base_uri": "https://localhost:8080/"
        },
        "id": "P_eJ6T_590tq",
        "outputId": "c24627e2-067a-452b-bded-4827c1eb34d6"
      },
      "outputs": [
        {
          "output_type": "stream",
          "name": "stdout",
          "text": [
            " Linear Regression RMSE: 14011.354711590995\n"
          ]
        }
      ],
      "source": [
        "from sklearn.linear_model import LinearRegression\n",
        "from sklearn.metrics import mean_squared_error\n",
        "\n",
        "lr_model = LinearRegression()\n",
        "lr_model.fit(X_train_reg, y_train_reg)\n",
        "pred_reg = lr_model.predict(X_test_reg)\n",
        "print(\" Linear Regression RMSE:\", np.sqrt(mean_squared_error(y_test_reg, pred_reg)))\n"
      ]
    },
    {
      "cell_type": "markdown",
      "metadata": {
        "id": "SENucgA3-gtQ"
      },
      "source": [
        " Logistic Regression"
      ]
    },
    {
      "cell_type": "markdown",
      "metadata": {
        "id": "Kh4VH_HfUmT8"
      },
      "source": [
        "LogisticRegression is used to classify the Test Results (a classification task). The output includes a classification report (precision, recall, F1-score).\n"
      ]
    },
    {
      "cell_type": "code",
      "execution_count": null,
      "metadata": {
        "colab": {
          "base_uri": "https://localhost:8080/"
        },
        "id": "ripB92Wh-D4r",
        "outputId": "4d7c4707-1d79-4dae-989c-d7fb5f7fdf3c"
      },
      "outputs": [
        {
          "output_type": "stream",
          "name": "stdout",
          "text": [
            "\n",
            " Logistic Regression Report:\n",
            "               precision    recall  f1-score   support\n",
            "\n",
            "           0       0.34      0.40      0.37      1887\n",
            "           1       0.33      0.30      0.31      1811\n",
            "           2       0.33      0.29      0.31      1852\n",
            "\n",
            "    accuracy                           0.33      5550\n",
            "   macro avg       0.33      0.33      0.33      5550\n",
            "weighted avg       0.33      0.33      0.33      5550\n",
            "\n"
          ]
        }
      ],
      "source": [
        "from sklearn.linear_model import LogisticRegression\n",
        "from sklearn.metrics import classification_report\n",
        "\n",
        "log_model = LogisticRegression()\n",
        "log_model.fit(X_train_clf, y_train_clf)\n",
        "log_preds = log_model.predict(X_test_clf)\n",
        "print(\"\\n Logistic Regression Report:\\n\", classification_report(y_test_clf, log_preds))\n"
      ]
    },
    {
      "cell_type": "markdown",
      "metadata": {
        "id": "Tfb--1qOBSqn"
      },
      "source": [
        "Decision Tree"
      ]
    },
    {
      "cell_type": "markdown",
      "metadata": {
        "id": "L18LM8hYTSnI"
      },
      "source": [
        "A DecisionTreeClassifier is trained to classify test results. It is a simple yet powerful algorithm that splits the dataset into decision paths."
      ]
    },
    {
      "cell_type": "code",
      "execution_count": null,
      "metadata": {
        "colab": {
          "base_uri": "https://localhost:8080/"
        },
        "id": "CGX58im1-RlP",
        "outputId": "1279f2e4-3631-45d8-ba0c-f1c572bb8f00"
      },
      "outputs": [
        {
          "output_type": "stream",
          "name": "stdout",
          "text": [
            "\n",
            " Decision Tree Report:\n",
            "               precision    recall  f1-score   support\n",
            "\n",
            "           0       0.45      0.44      0.45      1887\n",
            "           1       0.43      0.45      0.44      1811\n",
            "           2       0.44      0.44      0.44      1852\n",
            "\n",
            "    accuracy                           0.44      5550\n",
            "   macro avg       0.44      0.44      0.44      5550\n",
            "weighted avg       0.44      0.44      0.44      5550\n",
            "\n"
          ]
        }
      ],
      "source": [
        "from sklearn.tree import DecisionTreeClassifier\n",
        "\n",
        "dt_model = DecisionTreeClassifier()\n",
        "dt_model.fit(X_train_clf, y_train_clf)\n",
        "dt_preds = dt_model.predict(X_test_clf)\n",
        "print(\"\\n Decision Tree Report:\\n\", classification_report(y_test_clf, dt_preds))\n"
      ]
    },
    {
      "cell_type": "markdown",
      "metadata": {
        "id": "rupBVTTPBfjK"
      },
      "source": [
        "Random Forest"
      ]
    },
    {
      "cell_type": "markdown",
      "metadata": {
        "id": "CwJWJ4jZTfsu"
      },
      "source": [
        "RandomForestClassifier uses an ensemble of decision trees to improve accuracy and robustness. We evaluate it using a classification report."
      ]
    },
    {
      "cell_type": "code",
      "execution_count": null,
      "metadata": {
        "id": "HW_kX3c8HNpk"
      },
      "outputs": [],
      "source": [
        "from sklearn.ensemble import RandomForestClassifier"
      ]
    },
    {
      "cell_type": "code",
      "execution_count": null,
      "metadata": {
        "id": "hHQEML6tHWns"
      },
      "outputs": [],
      "source": [
        "scaler = StandardScaler()\n",
        "X_train_clf = scaler.fit_transform(X_train_clf)\n",
        "X_test_clf = scaler.transform(X_test_clf)"
      ]
    },
    {
      "cell_type": "code",
      "execution_count": null,
      "metadata": {
        "colab": {
          "base_uri": "https://localhost:8080/"
        },
        "id": "D2JAVgbeHa0M",
        "outputId": "9d692bb1-6b90-42d6-87a6-09a2762aee34"
      },
      "outputs": [
        {
          "output_type": "stream",
          "name": "stdout",
          "text": [
            "\n",
            " Random Forest Classification Report:\n",
            "\n",
            "              precision    recall  f1-score   support\n",
            "\n",
            "           0       0.46      0.46      0.46      1887\n",
            "           1       0.44      0.46      0.45      1811\n",
            "           2       0.45      0.43      0.44      1852\n",
            "\n",
            "    accuracy                           0.45      5550\n",
            "   macro avg       0.45      0.45      0.45      5550\n",
            "weighted avg       0.45      0.45      0.45      5550\n",
            "\n"
          ]
        }
      ],
      "source": [
        "rf_model = RandomForestClassifier(n_estimators=100, random_state=42)\n",
        "rf_model.fit(X_train_clf, y_train_clf)\n",
        "\n",
        "rf_preds = rf_model.predict(X_test_clf)\n",
        "\n",
        "print(\"\\n Random Forest Classification Report:\\n\")\n",
        "print(classification_report(y_test_clf, rf_preds))"
      ]
    },
    {
      "cell_type": "markdown",
      "metadata": {
        "id": "QbGYCiWpTbHp"
      },
      "source": [
        "KNeighborsClassifier predicts the label based on the majority class of the nearest neighbors in the feature space. Feature scaling is important before using KNN.\n",
        "\n"
      ]
    },
    {
      "cell_type": "markdown",
      "metadata": {
        "id": "HvGg3tRUCBxn"
      },
      "source": [
        "K-Nearest Neighbors (KNN)"
      ]
    },
    {
      "cell_type": "markdown",
      "metadata": {
        "id": "SXozVuL4TdC4"
      },
      "source": [
        "KNeighborsClassifier predicts the label based on the majority class of the nearest neighbors in the feature space. Feature scaling is important before using KNN.\n",
        "\n"
      ]
    },
    {
      "cell_type": "code",
      "execution_count": null,
      "metadata": {
        "id": "AxZ34pdqESEd"
      },
      "outputs": [],
      "source": [
        "# Feature scaling\n",
        "scaler = StandardScaler()\n",
        "X_train_clf = scaler.fit_transform(X_train_clf)\n",
        "X_test_clf = scaler.transform(X_test_clf)\n"
      ]
    },
    {
      "cell_type": "code",
      "execution_count": null,
      "metadata": {
        "colab": {
          "base_uri": "https://localhost:8080/"
        },
        "id": "k_rea38XB6mX",
        "outputId": "14e44277-be94-4dee-fcd8-79fa13b4b062"
      },
      "outputs": [
        {
          "output_type": "stream",
          "name": "stdout",
          "text": [
            "\n",
            " KNN Report:\n",
            "               precision    recall  f1-score   support\n",
            "\n",
            "           0       0.37      0.49      0.42      1887\n",
            "           1       0.38      0.38      0.38      1811\n",
            "           2       0.38      0.26      0.31      1852\n",
            "\n",
            "    accuracy                           0.38      5550\n",
            "   macro avg       0.38      0.38      0.37      5550\n",
            "weighted avg       0.38      0.38      0.37      5550\n",
            "\n"
          ]
        }
      ],
      "source": [
        "knn_model = KNeighborsClassifier(n_neighbors=5)\n",
        "knn_model.fit(X_train_clf, y_train_clf)\n",
        "\n",
        "knn_preds = knn_model.predict(X_test_clf)\n",
        "print(\"\\n KNN Report:\\n\", classification_report(y_test_clf, knn_preds))\n",
        "\n"
      ]
    },
    {
      "cell_type": "code",
      "source": [],
      "metadata": {
        "id": "UnsUCBtYGcPY"
      },
      "execution_count": null,
      "outputs": []
    }
  ],
  "metadata": {
    "colab": {
      "provenance": []
    },
    "kernelspec": {
      "display_name": "Python 3",
      "name": "python3"
    },
    "language_info": {
      "name": "python"
    }
  },
  "nbformat": 4,
  "nbformat_minor": 0
}